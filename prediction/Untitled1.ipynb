{
 "cells": [
  {
   "cell_type": "code",
   "execution_count": 1,
   "id": "40267754-3325-48ab-921e-8da3f76730da",
   "metadata": {
    "tags": []
   },
   "outputs": [
    {
     "name": "stderr",
     "output_type": "stream",
     "text": [
      "'tf' is not recognized as an internal or external command,\n",
      "operable program or batch file.\n"
     ]
    }
   ],
   "source": [
    "!tf"
   ]
  },
  {
   "cell_type": "code",
   "execution_count": 2,
   "id": "6e1d13b4-de6f-4098-97bb-c61be2cde7a5",
   "metadata": {
    "tags": []
   },
   "outputs": [
    {
     "name": "stdout",
     "output_type": "stream",
     "text": [
      "Extracting code lines from original notebook\n",
      "INFO line 83:4: Renamed 'tf.contrib.rnn.LSTMCell' to 'tf.compat.v1.nn.rnn_cell.LSTMCell'\n",
      "INFO line 85:41: Changing tf.contrib.layers xavier initializer to a tf.compat.v1.keras.initializers.VarianceScaling and converting arguments.\n",
      "\n",
      "WARNING line 89:19: Using member tf.contrib.rnn.DropoutWrapper in deprecated module tf.contrib.rnn. (Manual edit required) tf.contrib.rnn.* has been deprecated, and widely used cells/functions will be moved to tensorflow/addons repository. Please check it there and file Github issues if necessary.\n",
      "ERROR line 89:19: Using member tf.contrib.rnn.DropoutWrapper in deprecated module tf.contrib. tf.contrib.rnn.DropoutWrapper cannot be converted automatically. tf.contrib will not be distributed with TensorFlow 2.0, please consider an alternative in non-contrib TensorFlow, a community-maintained repository such as tensorflow/addons, or fork the required code.\n",
      "INFO line 92:18: Renamed 'tf.contrib.rnn.MultiRNNCell' to 'tf.compat.v1.nn.rnn_cell.MultiRNNCell'\n",
      "INFO line 93:13: Renamed 'tf.contrib.rnn.MultiRNNCell' to 'tf.compat.v1.nn.rnn_cell.MultiRNNCell'\n",
      "WARNING line 95:4: tf.get_variable requires manual check. tf.get_variable returns ResourceVariables by default in 2.0, which have well-defined semantics and are stricter about shapes. You can disable this behavior by passing use_resource=False, or by calling tf.compat.v1.disable_resource_variables().\n",
      "INFO line 95:4: Renamed 'tf.get_variable' to 'tf.compat.v1.get_variable'\n",
      "INFO line 95:62: Changing tf.contrib.layers xavier initializer to a tf.compat.v1.keras.initializers.VarianceScaling and converting arguments.\n",
      "\n",
      "WARNING line 96:4: tf.get_variable requires manual check. tf.get_variable returns ResourceVariables by default in 2.0, which have well-defined semantics and are stricter about shapes. You can disable this behavior by passing use_resource=False, or by calling tf.compat.v1.disable_resource_variables().\n",
      "INFO line 96:4: Renamed 'tf.get_variable' to 'tf.compat.v1.get_variable'\n",
      "INFO line 96:36: Renamed 'tf.random_uniform' to 'tf.random.uniform'\n",
      "INFO line 103:30: Renamed 'tf.assign' to 'tf.compat.v1.assign'\n",
      "INFO line 104:30: Renamed 'tf.assign' to 'tf.compat.v1.assign'\n",
      "INFO line 110:12: Renamed 'tf.assign' to 'tf.compat.v1.assign'\n",
      "INFO line 111:19: Renamed 'tf.placeholder' to 'tf.compat.v1.placeholder'\n",
      "INFO line 112:23: Renamed 'tf.placeholder' to 'tf.compat.v1.placeholder'\n",
      "INFO line 115:4: tf.train.exponential_decay requires manual check. To use learning rate decay schedules with TensorFlow 2.0, switch to the schedules in `tf.keras.optimizers.schedules`.\n",
      "\n",
      "INFO line 115:4: Renamed 'tf.train.exponential_decay' to 'tf.compat.v1.train.exponential_decay'\n",
      "INFO line 120:12: Renamed 'tf.train.AdamOptimizer' to 'tf.compat.v1.train.AdamOptimizer'\n",
      "INFO line 129:16: Renamed 'tf.placeholder' to 'tf.compat.v1.placeholder'\n",
      "INFO line 136:30: Renamed 'tf.contrib.rnn.LSTMStateTuple' to 'tf.nn.rnn_cell.LSTMStateTuple'\n",
      "INFO line 138:33: Renamed 'tf.assign' to 'tf.compat.v1.assign'\n",
      "INFO line 139:33: Renamed 'tf.assign' to 'tf.compat.v1.assign'\n",
      "INFO line 141:31: Renamed 'tf.nn.dynamic_rnn' to 'tf.compat.v1.nn.dynamic_rnn'\n",
      "INFO line 146:30: Renamed 'tf.assign' to 'tf.compat.v1.assign'\n",
      "INFO line 147:31: Renamed 'tf.assign' to 'tf.compat.v1.assign'\n",
      "INFO line 148:22: Renamed 'tf.nn.xw_plus_b' to 'tf.compat.v1.nn.xw_plus_b'\n",
      "TensorFlow 2.0 Upgrade Script\n",
      "-----------------------------\n",
      "Converted 1 files\n",
      "Detected 4 issues that require attention\n",
      "--------------------------------------------------------------------------------\n",
      "--------------------------------------------------------------------------------\n",
      "File: Untitled.ipynb\n",
      "--------------------------------------------------------------------------------\n",
      "Untitled.ipynb:89:19: WARNING: Using member tf.contrib.rnn.DropoutWrapper in deprecated module tf.contrib.rnn. (Manual edit required) tf.contrib.rnn.* has been deprecated, and widely used cells/functions will be moved to tensorflow/addons repository. Please check it there and file Github issues if necessary.\n",
      "Untitled.ipynb:89:19: ERROR: Using member tf.contrib.rnn.DropoutWrapper in deprecated module tf.contrib. tf.contrib.rnn.DropoutWrapper cannot be converted automatically. tf.contrib will not be distributed with TensorFlow 2.0, please consider an alternative in non-contrib TensorFlow, a community-maintained repository such as tensorflow/addons, or fork the required code.\n",
      "Untitled.ipynb:95:4: WARNING: tf.get_variable requires manual check. tf.get_variable returns ResourceVariables by default in 2.0, which have well-defined semantics and are stricter about shapes. You can disable this behavior by passing use_resource=False, or by calling tf.compat.v1.disable_resource_variables().\n",
      "Untitled.ipynb:96:4: WARNING: tf.get_variable requires manual check. tf.get_variable returns ResourceVariables by default in 2.0, which have well-defined semantics and are stricter about shapes. You can disable this behavior by passing use_resource=False, or by calling tf.compat.v1.disable_resource_variables().\n",
      "\n",
      "\n",
      "Make sure to read the detailed log 'report.txt'\n",
      "\n"
     ]
    }
   ],
   "source": [
    "!tf_upgrade_v2 --infile Untitled.ipynb --outfile TF2_Untitled.ipynb"
   ]
  },
  {
   "cell_type": "code",
   "execution_count": null,
   "id": "ff90ebcd-933c-4b8a-b104-7b7e87ed182c",
   "metadata": {},
   "outputs": [],
   "source": []
  }
 ],
 "metadata": {
  "kernelspec": {
   "display_name": "Python 3 (ipykernel)",
   "language": "python",
   "name": "python3"
  },
  "language_info": {
   "codemirror_mode": {
    "name": "ipython",
    "version": 3
   },
   "file_extension": ".py",
   "mimetype": "text/x-python",
   "name": "python",
   "nbconvert_exporter": "python",
   "pygments_lexer": "ipython3",
   "version": "3.11.5"
  }
 },
 "nbformat": 4,
 "nbformat_minor": 5
}
